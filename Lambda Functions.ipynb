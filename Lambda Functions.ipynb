{
 "cells": [
  {
   "attachments": {},
   "cell_type": "markdown",
   "id": "97d2a08c",
   "metadata": {},
   "source": [
    "<a id=\"toc\"></a>\n",
    "\n",
    "## <p style=\"background-color:#0D8D99; font-family:newtimeroman; color:#FFF9ED; font-size:175%; text-align:center; border-radius:10px 10px;\">Prep DAwPy-Session 1-2<br><br>Lambda Functions</p>"
   ]
  },
  {
   "attachments": {},
   "cell_type": "markdown",
   "id": "2a056995",
   "metadata": {},
   "source": [
    "#### <div class=\"alert alert-block alert-info\"><h1><p style=\"text-align: center; color:purple\"> Lambda Functions<br><br>Defining a Lambda Function<br><br>Uses of the Lambda Functions<br><br>Lambda within Built-in Functions<br><br>Lambda within User-Defined Functions</p> "
   ]
  },
  {
   "attachments": {},
   "cell_type": "markdown",
   "id": "71e9c513",
   "metadata": {},
   "source": [
    "**[Python official documentation 1 - Lambda Functions](https://docs.python.org/3/tutorial/controlflow.html#lambda-expressions)**\n",
    "\n",
    "**[Link2 - Python Lambda](https://www.w3schools.com/python/python_lambda.asp)**\n",
    "\n",
    "**[Link3 - Python Lambda Functions](https://www.geeksforgeeks.org/python-lambda-anonymous-functions-filter-map-reduce/)**\n",
    "\n",
    "**[Link4 - Lambda functions with practical examples in python](https://towardsdatascience.com/lambda-functions-with-practical-examples-in-python-45934f3653a8)**"
   ]
  },
  {
   "attachments": {},
   "cell_type": "markdown",
   "id": "4fb2806b",
   "metadata": {},
   "source": [
    "<a id=\"toc\"></a>\n",
    "\n",
    "### <p style=\"background-color:#9d4f8c; font-family:newtimeroman; color:#FFF9ED; font-size:175%; text-align:center; border-radius:10px 10px;\">Defining a Lambda Function</p>"
   ]
  },
  {
   "attachments": {},
   "cell_type": "markdown",
   "id": "7ba3d645",
   "metadata": {},
   "source": [
    "![python.exe](https://drive.google.com/uc?id=1AzQQxtNeHpGcSJmXs4cmsf8oNk59N3-2)"
   ]
  },
  {
   "cell_type": "code",
   "execution_count": 16,
   "id": "8defa2f1",
   "metadata": {},
   "outputs": [],
   "source": [
    "def square(x):\n",
    "    return x ** 2"
   ]
  },
  {
   "cell_type": "code",
   "execution_count": null,
   "id": "fc67e5d9",
   "metadata": {},
   "outputs": [],
   "source": [
    "lambda x : x ** 2 \n",
    "\n",
    "# You don't need to use \"return\" keyword in lambda function"
   ]
  },
  {
   "attachments": {},
   "cell_type": "markdown",
   "id": "ca81dc89",
   "metadata": {},
   "source": [
    "![python.exe](https://drive.google.com/uc?id=1cGefoh51VulCljjK2RauVtPjnwX1LhKW)"
   ]
  },
  {
   "cell_type": "code",
   "execution_count": 8,
   "id": "22fdd4f7",
   "metadata": {},
   "outputs": [],
   "source": [
    "condition = True"
   ]
  },
  {
   "cell_type": "code",
   "execution_count": 2,
   "id": "3fd946be",
   "metadata": {},
   "outputs": [
    {
     "data": {
      "text/plain": [
       "'odd'"
      ]
     },
     "execution_count": 2,
     "metadata": {},
     "output_type": "execute_result"
    }
   ],
   "source": [
    "\"odd\" if condition else \"even\"\n"
   ]
  },
  {
   "cell_type": "code",
   "execution_count": 10,
   "id": "e3312da3",
   "metadata": {},
   "outputs": [
    {
     "name": "stdout",
     "output_type": "stream",
     "text": [
      "odd\n"
     ]
    }
   ],
   "source": [
    "print(\"odd\") if condition else print(\"even\")"
   ]
  },
  {
   "cell_type": "code",
   "execution_count": 11,
   "id": "3028e4fc",
   "metadata": {},
   "outputs": [],
   "source": [
    "condition = False"
   ]
  },
  {
   "cell_type": "code",
   "execution_count": 12,
   "id": "9b5c0a59",
   "metadata": {},
   "outputs": [
    {
     "data": {
      "text/plain": [
       "'even'"
      ]
     },
     "execution_count": 12,
     "metadata": {},
     "output_type": "execute_result"
    }
   ],
   "source": [
    "\"odd\" if condition else \"even\""
   ]
  },
  {
   "cell_type": "code",
   "execution_count": 1,
   "id": "a5538318",
   "metadata": {},
   "outputs": [
    {
     "data": {
      "text/plain": [
       "<function __main__.<lambda>(x)>"
      ]
     },
     "execution_count": 1,
     "metadata": {},
     "output_type": "execute_result"
    }
   ],
   "source": [
    "lambda x : \"odd\" if x % 2 != 0 else \"even\""
   ]
  },
  {
   "cell_type": "code",
   "execution_count": 5,
   "id": "3e62b059",
   "metadata": {},
   "outputs": [
    {
     "data": {
      "text/plain": [
       "function"
      ]
     },
     "execution_count": 5,
     "metadata": {},
     "output_type": "execute_result"
    }
   ],
   "source": [
    "type(lambda x : \"odd\" if x % 2 != 0 else \"even\")"
   ]
  },
  {
   "attachments": {},
   "cell_type": "markdown",
   "id": "53c1e191",
   "metadata": {},
   "source": [
    "![python.exe](https://drive.google.com/uc?id=1cGefoh51VulCljjK2RauVtPjnwX1LhKW)"
   ]
  },
  {
   "cell_type": "code",
   "execution_count": 2,
   "id": "6b43146a",
   "metadata": {},
   "outputs": [
    {
     "data": {
      "text/plain": [
       "58"
      ]
     },
     "execution_count": 2,
     "metadata": {},
     "output_type": "execute_result"
    }
   ],
   "source": [
    "a=32\n",
    "b=12\n",
    "c=58\n",
    "\n",
    "func = lambda x,y,z : x if x >= y and x >= z else(y if y>x and y>z else z)\n",
    "func(a,b,c)"
   ]
  },
  {
   "cell_type": "code",
   "execution_count": 3,
   "id": "ee1758af",
   "metadata": {},
   "outputs": [
    {
     "data": {
      "text/plain": [
       "2"
      ]
     },
     "execution_count": 3,
     "metadata": {},
     "output_type": "execute_result"
    }
   ],
   "source": [
    "a = 2\n",
    "b = 1 \n",
    "c = 1\n",
    "\n",
    "(lambda a, b, c : a if a >= b and a >= c else b if b > c and b > a else c)(a,b,c)"
   ]
  },
  {
   "cell_type": "code",
   "execution_count": 4,
   "id": "ae6bf9fe",
   "metadata": {},
   "outputs": [
    {
     "name": "stdout",
     "output_type": "stream",
     "text": [
      "=\n"
     ]
    }
   ],
   "source": [
    "a = 330\n",
    "b = 330\n",
    "print(\"A\") if a > b else print(\"=\") if a == b else print(\"B\")"
   ]
  },
  {
   "attachments": {},
   "cell_type": "markdown",
   "id": "59a7684d",
   "metadata": {},
   "source": [
    "<a id=\"toc\"></a>\n",
    "\n",
    "### <p style=\"background-color:#9d4f8c; font-family:newtimeroman; color:#FFF9ED; font-size:175%; text-align:center; border-radius:10px 10px;\">Uses of the Lambda Functions</p>"
   ]
  },
  {
   "attachments": {},
   "cell_type": "markdown",
   "id": "e76e39a8",
   "metadata": {},
   "source": [
    "### 1. use : Using a lambda function by enclosing it in parentheses"
   ]
  },
  {
   "cell_type": "code",
   "execution_count": 2,
   "id": "2b5f55f2",
   "metadata": {},
   "outputs": [
    {
     "data": {
      "text/plain": [
       "'even'"
      ]
     },
     "execution_count": 2,
     "metadata": {},
     "output_type": "execute_result"
    }
   ],
   "source": [
    "(lambda x : \"odd\" if x % 2 != 0 else \"even\")(4) "
   ]
  },
  {
   "cell_type": "code",
   "execution_count": 6,
   "id": "d3bdd20d",
   "metadata": {},
   "outputs": [
    {
     "data": {
      "text/plain": [
       "7"
      ]
     },
     "execution_count": 6,
     "metadata": {},
     "output_type": "execute_result"
    }
   ],
   "source": [
    "(lambda x : x + 2)(5)"
   ]
  },
  {
   "attachments": {},
   "cell_type": "markdown",
   "id": "18d4c793",
   "metadata": {},
   "source": [
    "### 2. use : Using a lambda function by assigning it to a variable :"
   ]
  },
  {
   "cell_type": "code",
   "execution_count": 16,
   "id": "fe30b4e3",
   "metadata": {},
   "outputs": [],
   "source": [
    "odd_even = (lambda x : \"odd\" if x % 2 != 0 else \"even\")"
   ]
  },
  {
   "cell_type": "code",
   "execution_count": 17,
   "id": "6eb9669f",
   "metadata": {},
   "outputs": [
    {
     "data": {
      "text/plain": [
       "<function __main__.<lambda>(x)>"
      ]
     },
     "execution_count": 17,
     "metadata": {},
     "output_type": "execute_result"
    }
   ],
   "source": [
    "odd_even"
   ]
  },
  {
   "cell_type": "code",
   "execution_count": 18,
   "id": "b8164452",
   "metadata": {},
   "outputs": [
    {
     "data": {
      "text/plain": [
       "'odd'"
      ]
     },
     "execution_count": 18,
     "metadata": {},
     "output_type": "execute_result"
    }
   ],
   "source": [
    "odd_even(3)"
   ]
  },
  {
   "cell_type": "code",
   "execution_count": 19,
   "id": "40620ece",
   "metadata": {},
   "outputs": [],
   "source": [
    "odd_even_arg = (lambda x : \"odd\" if x % 2 != 0 else \"even\")(4)"
   ]
  },
  {
   "cell_type": "code",
   "execution_count": 20,
   "id": "dad0c7d8",
   "metadata": {},
   "outputs": [
    {
     "data": {
      "text/plain": [
       "'even'"
      ]
     },
     "execution_count": 20,
     "metadata": {},
     "output_type": "execute_result"
    }
   ],
   "source": [
    "odd_even_arg"
   ]
  },
  {
   "cell_type": "code",
   "execution_count": 22,
   "id": "d5ae6a12",
   "metadata": {},
   "outputs": [
    {
     "name": "stdout",
     "output_type": "stream",
     "text": [
      "4.0\n"
     ]
    }
   ],
   "source": [
    "print((lambda x, y : (x + y)/2)(3, 5))"
   ]
  },
  {
   "cell_type": "code",
   "execution_count": 23,
   "id": "00340e4c",
   "metadata": {},
   "outputs": [
    {
     "name": "stdout",
     "output_type": "stream",
     "text": [
      "4.0\n"
     ]
    }
   ],
   "source": [
    "average = (lambda x, y : (x + y)/2)\n",
    "\n",
    "print(average(3,5))"
   ]
  },
  {
   "cell_type": "code",
   "execution_count": 24,
   "id": "4dd60f37",
   "metadata": {},
   "outputs": [
    {
     "name": "stdout",
     "output_type": "stream",
     "text": [
      "4.0\n"
     ]
    }
   ],
   "source": [
    "average = (lambda x, y : (x + y)/2)(3, 5)\n",
    "\n",
    "print(average)"
   ]
  },
  {
   "cell_type": "code",
   "execution_count": 13,
   "id": "ee63ad0c",
   "metadata": {},
   "outputs": [
    {
     "data": {
      "text/plain": [
       "<function __main__.<lambda>(x, y)>"
      ]
     },
     "execution_count": 13,
     "metadata": {},
     "output_type": "execute_result"
    }
   ],
   "source": [
    "average = lambda x, y : (x + y) / 2\n",
    "average"
   ]
  },
  {
   "cell_type": "code",
   "execution_count": 14,
   "id": "8e33f9c4",
   "metadata": {},
   "outputs": [
    {
     "data": {
      "text/plain": [
       "4.0"
      ]
     },
     "execution_count": 14,
     "metadata": {},
     "output_type": "execute_result"
    }
   ],
   "source": [
    "average(3,5)"
   ]
  },
  {
   "attachments": {},
   "cell_type": "markdown",
   "id": "039fffef",
   "metadata": {},
   "source": [
    "### Task:\n",
    "\n",
    "**Define a lambda function to reverse the elements of any iterables.** \n",
    "\n",
    "**Use parentheses for arguments and print the result.**"
   ]
  },
  {
   "cell_type": "code",
   "execution_count": null,
   "id": "4e376966",
   "metadata": {},
   "outputs": [],
   "source": [
    "\"ali\"[::-1]"
   ]
  },
  {
   "cell_type": "code",
   "execution_count": 15,
   "id": "5cf35da2",
   "metadata": {},
   "outputs": [],
   "source": [
    "iterable = \"I learn Python\"\n",
    "\n",
    "reverser = lambda x : x[::-1]  # where x will represent iterable."
   ]
  },
  {
   "cell_type": "code",
   "execution_count": 16,
   "id": "04752ffd",
   "metadata": {},
   "outputs": [
    {
     "data": {
      "text/plain": [
       "<function __main__.<lambda>(x)>"
      ]
     },
     "execution_count": 16,
     "metadata": {},
     "output_type": "execute_result"
    }
   ],
   "source": [
    "reverser"
   ]
  },
  {
   "cell_type": "code",
   "execution_count": 17,
   "id": "7a69307d",
   "metadata": {},
   "outputs": [
    {
     "data": {
      "text/plain": [
       "'nohtyP nrael I'"
      ]
     },
     "execution_count": 17,
     "metadata": {},
     "output_type": "execute_result"
    }
   ],
   "source": [
    "reverser(iterable)"
   ]
  },
  {
   "cell_type": "code",
   "execution_count": 18,
   "id": "6306cc8e",
   "metadata": {},
   "outputs": [
    {
     "data": {
      "text/plain": [
       "[3, 2, 1]"
      ]
     },
     "execution_count": 18,
     "metadata": {},
     "output_type": "execute_result"
    }
   ],
   "source": [
    "(lambda x : x[::-1])([1,2,3])"
   ]
  },
  {
   "cell_type": "code",
   "execution_count": null,
   "id": "d69ef894",
   "metadata": {},
   "outputs": [],
   "source": [
    "iterable = [ 1, 2, 3, 4, 5, 6, 7]\n",
    "a  = list((lambda x : reversed(x))(iterable))\n",
    "print(a)"
   ]
  },
  {
   "attachments": {},
   "cell_type": "markdown",
   "id": "476e8775",
   "metadata": {},
   "source": [
    "### Task\n",
    "\n",
    "**Write a Python program that types ‘even’ or ‘odd’ in accordance with the numbers in a list.**\n",
    "\n",
    "**Use lambda function and loop. Your code must contain no more than 2 lines.** \n",
    "\n",
    "The sample list and desired output are as follows :\n",
    "\n",
    "[1, 2, 3, 4]\n",
    "\n",
    "1 : odd<br>\n",
    "2 : even<br>\n",
    "3 : odd<br>\n",
    "4 : even"
   ]
  },
  {
   "cell_type": "code",
   "execution_count": null,
   "id": "fe5d933b",
   "metadata": {},
   "outputs": [],
   "source": [
    "(lambda x : \"odd\" if x % 2 != 0 else \"even\")(4)"
   ]
  },
  {
   "cell_type": "code",
   "execution_count": 20,
   "id": "75f8b367",
   "metadata": {},
   "outputs": [
    {
     "name": "stdout",
     "output_type": "stream",
     "text": [
      "1 : odd\n",
      "2 : even\n",
      "3 : odd\n",
      "4 : even\n",
      "5 : odd\n",
      "6 : even\n"
     ]
    }
   ],
   "source": [
    "numbers = [1,2,3,4,5,6]\n",
    "\n",
    "for i in numbers:\n",
    "    print(i, \":\", (lambda x : \"odd\" if x % 2 != 0 else \"even\")(i)) "
   ]
  },
  {
   "cell_type": "code",
   "execution_count": 21,
   "id": "2f12ab80",
   "metadata": {},
   "outputs": [
    {
     "name": "stdout",
     "output_type": "stream",
     "text": [
      "1 : odd\n",
      "2 : even\n",
      "3 : odd\n",
      "4 : even\n",
      "5 : odd\n",
      "6 : even\n"
     ]
    }
   ],
   "source": [
    "for eleman in numbers :\n",
    "    print(eleman, \":\", (lambda x : \"odd\" if x % 2 != 0 else \"even\")(eleman))"
   ]
  },
  {
   "cell_type": "code",
   "execution_count": 5,
   "id": "69662502",
   "metadata": {},
   "outputs": [],
   "source": [
    "iterable = \"I love Python\""
   ]
  },
  {
   "cell_type": "code",
   "execution_count": 6,
   "id": "5244daa3",
   "metadata": {},
   "outputs": [],
   "source": [
    "reverser = lambda x : x[::-1]"
   ]
  },
  {
   "cell_type": "code",
   "execution_count": 7,
   "id": "7327564b",
   "metadata": {},
   "outputs": [
    {
     "data": {
      "text/plain": [
       "<function __main__.<lambda>(x)>"
      ]
     },
     "execution_count": 7,
     "metadata": {},
     "output_type": "execute_result"
    }
   ],
   "source": [
    "reverser"
   ]
  },
  {
   "cell_type": "code",
   "execution_count": 22,
   "id": "473382d9",
   "metadata": {},
   "outputs": [
    {
     "data": {
      "text/plain": [
       "'nohtyP nrael I'"
      ]
     },
     "execution_count": 22,
     "metadata": {},
     "output_type": "execute_result"
    }
   ],
   "source": [
    "reverser(iterable)"
   ]
  },
  {
   "cell_type": "code",
   "execution_count": 7,
   "id": "1d226a45",
   "metadata": {},
   "outputs": [
    {
     "name": "stdout",
     "output_type": "stream",
     "text": [
      "1 :  odd\n",
      "2 :  even\n",
      "3 :  odd\n",
      "4 :  even\n"
     ]
    }
   ],
   "source": [
    "for num in [1, 2, 3, 4]:\n",
    "    print(num ,\": \", (lambda x: \"odd\" if x % 2 else \"even\")(num)) "
   ]
  },
  {
   "attachments": {},
   "cell_type": "markdown",
   "id": "a7370b13",
   "metadata": {},
   "source": [
    "<a id=\"toc\"></a>\n",
    "\n",
    "### <p style=\"background-color:#9d4f8c; font-family:newtimeroman; color:#FFF9ED; font-size:175%; text-align:center; border-radius:10px 10px;\">Lambda within Built-in Functions</p>"
   ]
  },
  {
   "attachments": {},
   "cell_type": "markdown",
   "id": "d2786d19",
   "metadata": {},
   "source": [
    "<a id=\"toc\"></a>\n",
    "\n",
    "### <p style=\"background-color:#0D8D99; font-family:newtimeroman; color:#FFF9ED; font-size:175%; text-align:center; border-radius:10px 10px;\">map() function</p>"
   ]
  },
  {
   "attachments": {},
   "cell_type": "markdown",
   "id": "debaf00f",
   "metadata": {},
   "source": [
    "**map(func, *iterables) --> map object**\n",
    "\n",
    "Make an iterator that computes the function using arguments from\n",
    "each of the iterables.  Stops when the shortest iterable is exhausted."
   ]
  },
  {
   "attachments": {},
   "cell_type": "markdown",
   "id": "3da2fbe5",
   "metadata": {},
   "source": [
    "### Task: Let's write the code using the map() function to return the lengths of the elements in the given list."
   ]
  },
  {
   "cell_type": "code",
   "execution_count": 1,
   "id": "d8b63c87",
   "metadata": {},
   "outputs": [],
   "source": [
    "# map\n",
    "\n",
    "words = [\"adel\", \"fatih\", \"Nalan\", \"vahdettin\" ]"
   ]
  },
  {
   "cell_type": "code",
   "execution_count": 20,
   "id": "42dbbd44",
   "metadata": {},
   "outputs": [
    {
     "data": {
      "text/plain": [
       "<map at 0x26d93305640>"
      ]
     },
     "execution_count": 20,
     "metadata": {},
     "output_type": "execute_result"
    }
   ],
   "source": [
    "map(len, words)"
   ]
  },
  {
   "cell_type": "code",
   "execution_count": 21,
   "id": "e0764dd6",
   "metadata": {},
   "outputs": [
    {
     "data": {
      "text/plain": [
       "[10, 6, 4]"
      ]
     },
     "execution_count": 21,
     "metadata": {},
     "output_type": "execute_result"
    }
   ],
   "source": [
    "list(map(len, words))"
   ]
  },
  {
   "cell_type": "code",
   "execution_count": 23,
   "id": "daad1f44",
   "metadata": {},
   "outputs": [
    {
     "data": {
      "text/plain": [
       "<map at 0x26d93305c70>"
      ]
     },
     "execution_count": 23,
     "metadata": {},
     "output_type": "execute_result"
    }
   ],
   "source": [
    "lengths = map(len, words)"
   ]
  },
  {
   "cell_type": "code",
   "execution_count": null,
   "id": "6d25970d",
   "metadata": {},
   "outputs": [],
   "source": [
    "lengths"
   ]
  },
  {
   "cell_type": "code",
   "execution_count": 24,
   "id": "e23a250d",
   "metadata": {},
   "outputs": [
    {
     "name": "stdout",
     "output_type": "stream",
     "text": [
      "10 6 4\n"
     ]
    }
   ],
   "source": [
    "print(* lengths)"
   ]
  },
  {
   "cell_type": "code",
   "execution_count": 26,
   "id": "6b645092",
   "metadata": {},
   "outputs": [
    {
     "name": "stdout",
     "output_type": "stream",
     "text": [
      "[10, 6, 4]\n"
     ]
    }
   ],
   "source": [
    "lengths = []\n",
    "\n",
    "for i in words :\n",
    "    lengths.append(len(i))\n",
    "print(lengths)"
   ]
  },
  {
   "attachments": {},
   "cell_type": "markdown",
   "id": "5a8c4a20",
   "metadata": {},
   "source": [
    "### Task: Let's use the map() function and lambda expression to find the squares of all numbers in a list. "
   ]
  },
  {
   "cell_type": "code",
   "execution_count": 32,
   "id": "6ea9083f",
   "metadata": {},
   "outputs": [],
   "source": [
    "square_func = lambda x : x ** 2"
   ]
  },
  {
   "cell_type": "code",
   "execution_count": 33,
   "id": "31975626",
   "metadata": {},
   "outputs": [],
   "source": [
    "iterable = [1, 2, 3, 4, 5]"
   ]
  },
  {
   "cell_type": "code",
   "execution_count": 30,
   "id": "ba175ae4",
   "metadata": {},
   "outputs": [],
   "source": [
    "# i = {1, 3, 2, 5, 5, 4, 5}\n",
    "# list(map(lambda x : x ** 2, i))"
   ]
  },
  {
   "cell_type": "code",
   "execution_count": 30,
   "id": "67a52a74",
   "metadata": {},
   "outputs": [
    {
     "name": "stdout",
     "output_type": "stream",
     "text": [
      "1 4 9 16 25\n"
     ]
    }
   ],
   "source": [
    "result = map(square_func, iterable)"
   ]
  },
  {
   "cell_type": "code",
   "execution_count": null,
   "id": "d0a651f6",
   "metadata": {},
   "outputs": [],
   "source": [
    "print(* result)"
   ]
  },
  {
   "cell_type": "code",
   "execution_count": 31,
   "id": "1fcdf75a",
   "metadata": {},
   "outputs": [
    {
     "name": "stdout",
     "output_type": "stream",
     "text": [
      "1 4 9 16 25\n"
     ]
    }
   ],
   "source": [
    "print(* (map(lambda x : x ** 2, [1, 2, 3, 4, 5])))"
   ]
  },
  {
   "cell_type": "code",
   "execution_count": 32,
   "id": "13ee423c",
   "metadata": {},
   "outputs": [
    {
     "name": "stdout",
     "output_type": "stream",
     "text": [
      "1 4 9 16 25 "
     ]
    }
   ],
   "source": [
    "result = map(square_func, iterable)\n",
    "\n",
    "for i in result :\n",
    "    print(i, end = \" \")"
   ]
  },
  {
   "cell_type": "code",
   "execution_count": 34,
   "id": "837df3b6",
   "metadata": {},
   "outputs": [
    {
     "name": "stdout",
     "output_type": "stream",
     "text": [
      "1 4 9 16 25 "
     ]
    }
   ],
   "source": [
    "for i in map(square_func, iterable) :\n",
    "    print(i, end = \" \")"
   ]
  },
  {
   "cell_type": "code",
   "execution_count": 33,
   "id": "ccd60d6b",
   "metadata": {},
   "outputs": [
    {
     "data": {
      "text/plain": [
       "[1, 4, 9, 16, 25]"
      ]
     },
     "execution_count": 33,
     "metadata": {},
     "output_type": "execute_result"
    }
   ],
   "source": [
    "# result = map(square_func, iterable)\n",
    "\n",
    "# list(result)"
   ]
  },
  {
   "cell_type": "code",
   "execution_count": 34,
   "id": "da2291a9",
   "metadata": {},
   "outputs": [
    {
     "data": {
      "text/plain": [
       "[1, 4, 9, 16, 25]"
      ]
     },
     "execution_count": 34,
     "metadata": {},
     "output_type": "execute_result"
    }
   ],
   "source": [
    "# list(map(square_func, iterable))"
   ]
  },
  {
   "cell_type": "code",
   "execution_count": 35,
   "id": "f92884a5",
   "metadata": {},
   "outputs": [],
   "source": [
    "def square(x) :\n",
    "    return x ** 2"
   ]
  },
  {
   "cell_type": "code",
   "execution_count": 36,
   "id": "d9f806a9",
   "metadata": {},
   "outputs": [
    {
     "data": {
      "text/plain": [
       "[1, 4, 9, 16, 25]"
      ]
     },
     "execution_count": 36,
     "metadata": {},
     "output_type": "execute_result"
    }
   ],
   "source": [
    "iterable = [1, 2, 3, 4, 5]\n",
    "\n",
    "list(map(square, iterable))  "
   ]
  },
  {
   "cell_type": "code",
   "execution_count": 37,
   "id": "21a6acd5",
   "metadata": {},
   "outputs": [],
   "source": [
    "sum_or_concat = lambda x, y, z : x + y + z"
   ]
  },
  {
   "cell_type": "code",
   "execution_count": 38,
   "id": "6452e327",
   "metadata": {},
   "outputs": [
    {
     "data": {
      "text/plain": [
       "'ali'"
      ]
     },
     "execution_count": 38,
     "metadata": {},
     "output_type": "execute_result"
    }
   ],
   "source": [
    "sum_or_concat(\"a\", \"l\", \"i\")"
   ]
  },
  {
   "cell_type": "code",
   "execution_count": 39,
   "id": "2772719d",
   "metadata": {},
   "outputs": [
    {
     "data": {
      "text/plain": [
       "99"
      ]
     },
     "execution_count": 39,
     "metadata": {},
     "output_type": "execute_result"
    }
   ],
   "source": [
    "sum_or_concat(11, 78, 10)"
   ]
  },
  {
   "cell_type": "code",
   "execution_count": 8,
   "id": "497c11ee",
   "metadata": {},
   "outputs": [
    {
     "name": "stdout",
     "output_type": "stream",
     "text": [
      "[1, 4, 9, 16, 25]\n"
     ]
    }
   ],
   "source": [
    "print(list(map(lambda x: x**2, [1,2,3,4,5])))"
   ]
  },
  {
   "cell_type": "code",
   "execution_count": 9,
   "id": "9f166b07",
   "metadata": {},
   "outputs": [
    {
     "data": {
      "text/plain": [
       "[1, 4, 9, 16, 25]"
      ]
     },
     "execution_count": 9,
     "metadata": {},
     "output_type": "execute_result"
    }
   ],
   "source": [
    "def square_func():\n",
    "\n",
    "    return list(map(lambda x: x**2, [1,2,3,4,5]))\n",
    "\n",
    "square_func()\n"
   ]
  },
  {
   "cell_type": "code",
   "execution_count": 10,
   "id": "6e412561",
   "metadata": {},
   "outputs": [
    {
     "data": {
      "text/plain": [
       "[1, 4, 9, 16, 25]"
      ]
     },
     "execution_count": 10,
     "metadata": {},
     "output_type": "execute_result"
    }
   ],
   "source": [
    "def square(x):\n",
    "    return x**2\n",
    "iterable = [1, 2, 3, 4, 5]\n",
    "list(map(square, iterable))"
   ]
  },
  {
   "attachments": {},
   "cell_type": "markdown",
   "id": "479a088b",
   "metadata": {},
   "source": [
    "### Task : Using lambda inside the map() function, write a program that calculates the arithmetic means of two element pairs in the following two lists in accordance with their order and collects them into a list.\n",
    "\n",
    "num1 = [9, 6, 7, 4]<br>\n",
    "num2 = [3, 6, 5, 8]"
   ]
  },
  {
   "cell_type": "code",
   "execution_count": 36,
   "id": "53299ff0",
   "metadata": {},
   "outputs": [
    {
     "data": {
      "text/plain": [
       "<function __main__.<lambda>(x, y)>"
      ]
     },
     "execution_count": 36,
     "metadata": {},
     "output_type": "execute_result"
    }
   ],
   "source": [
    "lambda x, y : (x + y) / 2 "
   ]
  },
  {
   "cell_type": "code",
   "execution_count": 37,
   "id": "dd748a17",
   "metadata": {},
   "outputs": [],
   "source": [
    "func = lambda x, y : (x + y) / 2 "
   ]
  },
  {
   "cell_type": "code",
   "execution_count": 38,
   "id": "d00fa2fa",
   "metadata": {},
   "outputs": [],
   "source": [
    "num1 = [9, 6, 7, 4]\n",
    "num2 = [3, 6, 5, 8]"
   ]
  },
  {
   "cell_type": "code",
   "execution_count": 40,
   "id": "eba92be7",
   "metadata": {},
   "outputs": [],
   "source": [
    "numbers = map(func, num1, num2)"
   ]
  },
  {
   "cell_type": "code",
   "execution_count": 41,
   "id": "dc2778f8",
   "metadata": {},
   "outputs": [
    {
     "name": "stdout",
     "output_type": "stream",
     "text": [
      "[6.0, 6.0, 6.0, 6.0]\n"
     ]
    }
   ],
   "source": [
    "print(list(numbers))"
   ]
  },
  {
   "cell_type": "code",
   "execution_count": 11,
   "id": "4a919afa",
   "metadata": {},
   "outputs": [
    {
     "name": "stdout",
     "output_type": "stream",
     "text": [
      "[6.0, 6.0, 6.0, 6.0]\n"
     ]
    }
   ],
   "source": [
    "print(list(map(lambda x , y: (x+ y)/2 , [9, 6, 7 ,4], [ 3, 6, 5, 8])))"
   ]
  },
  {
   "attachments": {},
   "cell_type": "markdown",
   "id": "134b7321",
   "metadata": {},
   "source": [
    "### Task : \"Write a program using a lambda expression inside the map function to place the three meaningful sentences derived from the elements of the following three lists in their respective order.\"\n",
    "\n",
    "**Print these sentences on separate lines.**\n",
    "\n",
    "words1 = [\"you\", \"much\", \"hard\"]<br>\n",
    "words2 = [\"i\", \"you\", \"he\"]<br>\n",
    "words3 = [\"love\", \"ate\", \"works\"]"
   ]
  },
  {
   "cell_type": "code",
   "execution_count": 2,
   "id": "df94defc",
   "metadata": {},
   "outputs": [],
   "source": [
    "words1 = [\"you\", \"much\", \"hard\"]\n",
    "words2 = [\"i\", \"you\", \"he\"]\n",
    "words3 = [\"love\", \"ate\", \"works\"]"
   ]
  },
  {
   "cell_type": "code",
   "execution_count": 6,
   "id": "da03099d",
   "metadata": {},
   "outputs": [],
   "source": [
    "concat = lambda x, y, z : x + \" \" + y + \" \" + z"
   ]
  },
  {
   "cell_type": "code",
   "execution_count": 7,
   "id": "2741725d",
   "metadata": {},
   "outputs": [
    {
     "name": "stdout",
     "output_type": "stream",
     "text": [
      "i love you\n",
      "you ate much\n",
      "he works hard\n"
     ]
    }
   ],
   "source": [
    "sentences = map(concat, words2, words3, words1)\n",
    "\n",
    "for i in sentences :\n",
    "    print(i)"
   ]
  },
  {
   "cell_type": "code",
   "execution_count": 12,
   "id": "bb80c9d5",
   "metadata": {},
   "outputs": [
    {
     "name": "stdout",
     "output_type": "stream",
     "text": [
      "['i love you', 'you ate much', 'he works hard']\n"
     ]
    }
   ],
   "source": [
    "print(list(map(lambda x,y,z : y + z + x , [\"you\", \"much\", \"hard\"], [\"i \", \"you \", \"he \"], [\"love \", \"ate \", \"works \"])))"
   ]
  },
  {
   "cell_type": "code",
   "execution_count": 13,
   "id": "e35243aa",
   "metadata": {},
   "outputs": [
    {
     "name": "stdout",
     "output_type": "stream",
     "text": [
      "i love you you ate much he works hard\n"
     ]
    }
   ],
   "source": [
    "print(*(map(lambda x,y,z : y + z + x , [\"you\", \"much\", \"hard\"], [\"i \", \"you \", \"he \"], [\"love \", \"ate \", \"works \"])))"
   ]
  },
  {
   "attachments": {},
   "cell_type": "markdown",
   "id": "87cfee29",
   "metadata": {},
   "source": [
    "<a id=\"toc\"></a>\n",
    "\n",
    "### <p style=\"background-color:#0D8D99; font-family:newtimeroman; color:#FFF9ED; font-size:175%; text-align:center; border-radius:10px 10px;\">filter() function</p>"
   ]
  },
  {
   "attachments": {},
   "cell_type": "markdown",
   "id": "13c631de",
   "metadata": {},
   "source": [
    "**filter(function or None, iterable) --> filter object**\n",
    "\n",
    "Return an iterator yielding those items of iterable for which function(item)\n",
    "is true. If function is None, return the items that are true."
   ]
  },
  {
   "attachments": {},
   "cell_type": "markdown",
   "id": "fc32f263",
   "metadata": {},
   "source": [
    "### Task: \"Let's use a lambda expression inside the filter() function to return the odd numbers in a list\""
   ]
  },
  {
   "cell_type": "code",
   "execution_count": null,
   "id": "0bcc5303",
   "metadata": {},
   "outputs": [],
   "source": [
    "filter()  # SHIFT TAB TAB"
   ]
  },
  {
   "cell_type": "code",
   "execution_count": 14,
   "id": "e7dfcb11",
   "metadata": {},
   "outputs": [
    {
     "name": "stdout",
     "output_type": "stream",
     "text": [
      "Odd number :  [1, 3, 5, 7, 9]\n"
     ]
    }
   ],
   "source": [
    "x = list(filter(lambda x : x % 2 , [1, 2, 3, 4, 5, 6, 7, 8, 9, 10 ]))\n",
    "\n",
    "print(\"Odd number : \" , x)"
   ]
  },
  {
   "cell_type": "code",
   "execution_count": 8,
   "id": "d80eff83",
   "metadata": {},
   "outputs": [
    {
     "data": {
      "text/plain": [
       "True"
      ]
     },
     "execution_count": 8,
     "metadata": {},
     "output_type": "execute_result"
    }
   ],
   "source": [
    "4 % 2 == 0"
   ]
  },
  {
   "cell_type": "code",
   "execution_count": 9,
   "id": "abb3f0d8",
   "metadata": {},
   "outputs": [
    {
     "data": {
      "text/plain": [
       "False"
      ]
     },
     "execution_count": 9,
     "metadata": {},
     "output_type": "execute_result"
    }
   ],
   "source": [
    "5 % 2 == 0"
   ]
  },
  {
   "cell_type": "code",
   "execution_count": 10,
   "id": "2bd47b8b",
   "metadata": {},
   "outputs": [
    {
     "data": {
      "text/plain": [
       "<filter at 0x241addae1f0>"
      ]
     },
     "execution_count": 10,
     "metadata": {},
     "output_type": "execute_result"
    }
   ],
   "source": [
    "first_ten = [1, 2, 3, 4, 5, 6, 7, 8, 9]\n",
    "\n",
    "filter(lambda x : x % 2 == 1, first_ten)"
   ]
  },
  {
   "cell_type": "code",
   "execution_count": 11,
   "id": "e6821953",
   "metadata": {},
   "outputs": [
    {
     "name": "stdout",
     "output_type": "stream",
     "text": [
      "1 3 5 7 9\n"
     ]
    }
   ],
   "source": [
    "print(*filter(lambda x : x % 2 == 1, first_ten))"
   ]
  },
  {
   "cell_type": "code",
   "execution_count": 12,
   "id": "af84dfaf",
   "metadata": {},
   "outputs": [
    {
     "name": "stdout",
     "output_type": "stream",
     "text": [
      "1 3 5 7 9\n"
     ]
    }
   ],
   "source": [
    "print(*filter(lambda x : x % 2 != 0, first_ten))"
   ]
  },
  {
   "cell_type": "code",
   "execution_count": 13,
   "id": "f27489eb",
   "metadata": {},
   "outputs": [
    {
     "name": "stdout",
     "output_type": "stream",
     "text": [
      "1 3 5 7 9\n"
     ]
    }
   ],
   "source": [
    "print(*filter(lambda x : x % 2 ==1 , first_ten))"
   ]
  },
  {
   "cell_type": "code",
   "execution_count": 14,
   "id": "8f51be65",
   "metadata": {},
   "outputs": [
    {
     "name": "stdout",
     "output_type": "stream",
     "text": [
      "1 3 5 7 9\n"
     ]
    }
   ],
   "source": [
    "print(*filter(lambda x : not x % 2 == 0, first_ten))"
   ]
  },
  {
   "cell_type": "code",
   "execution_count": 15,
   "id": "e1ef027a",
   "metadata": {},
   "outputs": [
    {
     "name": "stdout",
     "output_type": "stream",
     "text": [
      "1 3 5 7 9\n"
     ]
    }
   ],
   "source": [
    "print(*filter(lambda x : x % 2, first_ten))"
   ]
  },
  {
   "cell_type": "code",
   "execution_count": 15,
   "id": "337cad4b",
   "metadata": {},
   "outputs": [
    {
     "name": "stdout",
     "output_type": "stream",
     "text": [
      "Odd number :  [1, 3, 5, 7, 9]\n"
     ]
    }
   ],
   "source": [
    "print(\"Odd number : \" , list(filter(lambda x : x % 2 , [1, 2, 3, 4, 5, 6, 7, 8, 9, 10 ])))"
   ]
  },
  {
   "attachments": {},
   "cell_type": "markdown",
   "id": "3b539ae7",
   "metadata": {},
   "source": [
    "### Task : Using lambda inside the filter() function, write a program that filters out words (elements of the given list) with less than 5 chars.\n",
    "\n",
    "**Print these words which has less than 5 chars on separate lines.**\n",
    "\n",
    "words = [\"apple\", \"swim\", \"clock\", \"me\", \"kiwi\", \"banana\"]"
   ]
  },
  {
   "cell_type": "code",
   "execution_count": 16,
   "id": "927dd77c",
   "metadata": {},
   "outputs": [
    {
     "data": {
      "text/plain": [
       "5"
      ]
     },
     "execution_count": 16,
     "metadata": {},
     "output_type": "execute_result"
    }
   ],
   "source": [
    "len(\"apple\")"
   ]
  },
  {
   "cell_type": "code",
   "execution_count": 17,
   "id": "395a5129",
   "metadata": {},
   "outputs": [
    {
     "data": {
      "text/plain": [
       "False"
      ]
     },
     "execution_count": 17,
     "metadata": {},
     "output_type": "execute_result"
    }
   ],
   "source": [
    "len(\"apple\") < 5"
   ]
  },
  {
   "cell_type": "code",
   "execution_count": 18,
   "id": "4c715bdb",
   "metadata": {},
   "outputs": [
    {
     "data": {
      "text/plain": [
       "True"
      ]
     },
     "execution_count": 18,
     "metadata": {},
     "output_type": "execute_result"
    }
   ],
   "source": [
    "len(\"me\") < 5"
   ]
  },
  {
   "cell_type": "code",
   "execution_count": 19,
   "id": "38c08066",
   "metadata": {},
   "outputs": [
    {
     "data": {
      "text/plain": [
       "True"
      ]
     },
     "execution_count": 19,
     "metadata": {},
     "output_type": "execute_result"
    }
   ],
   "source": [
    "2 < 5"
   ]
  },
  {
   "cell_type": "code",
   "execution_count": 20,
   "id": "150d2df4",
   "metadata": {},
   "outputs": [],
   "source": [
    "words = [\"apple\", \"swim\", \"clock\", \"me\", \"kiwi\", \"banana\"]"
   ]
  },
  {
   "cell_type": "code",
   "execution_count": null,
   "id": "922e03bb",
   "metadata": {},
   "outputs": [],
   "source": [
    "filter(lambda x : len(x) < 5, words)"
   ]
  },
  {
   "cell_type": "code",
   "execution_count": 21,
   "id": "3392280c",
   "metadata": {},
   "outputs": [
    {
     "name": "stdout",
     "output_type": "stream",
     "text": [
      "swim\n",
      "me\n",
      "kiwi\n"
     ]
    }
   ],
   "source": [
    "for i in filter(lambda x : len(x) < 5, words) :\n",
    "    print(i)"
   ]
  },
  {
   "cell_type": "code",
   "execution_count": 16,
   "id": "549cacd7",
   "metadata": {},
   "outputs": [
    {
     "name": "stdout",
     "output_type": "stream",
     "text": [
      "['swim', 'me', 'kiwi']\n"
     ]
    }
   ],
   "source": [
    "words = [\"apple\", \"swim\", \"clock\", \"me\", \"kiwi\", \"banana\"]\n",
    "\n",
    "five_chars = list(filter(lambda x: len(x) < 5, words))\n",
    "print(five_chars)"
   ]
  },
  {
   "cell_type": "code",
   "execution_count": 17,
   "id": "112b86b6",
   "metadata": {},
   "outputs": [
    {
     "name": "stdout",
     "output_type": "stream",
     "text": [
      "['swim', 'me', 'kiwi']\n"
     ]
    }
   ],
   "source": [
    "print(list(filter(lambda x: len(x) < 5, [\"apple\", \"swim\", \"clock\", \"me\", \"kiwi\", \"banana\"] )))"
   ]
  },
  {
   "attachments": {},
   "cell_type": "markdown",
   "id": "590b2306",
   "metadata": {},
   "source": [
    "## what if we use the map() and zip() functions together:\n",
    "\n",
    "**Note that now the generator objects returned by both the zip function and the map function will be nested!**"
   ]
  },
  {
   "cell_type": "code",
   "execution_count": 18,
   "id": "fb42ec5b",
   "metadata": {},
   "outputs": [
    {
     "name": "stdout",
     "output_type": "stream",
     "text": [
      "[(5, 1, 5), (12, 2, 6), (21, 3, 7), (32, 4, 8)]\n"
     ]
    }
   ],
   "source": [
    "listem1 = [1, 2, 3, 4]\n",
    "listem2 = [5, 6, 7, 8]\n",
    "\n",
    "def carp(x , y):\n",
    "    return x * y\n",
    "carpimlar = map(carp, listem1, listem2)\n",
    "sonuclar = zip(carpimlar, listem1, listem2)\n",
    "print(list(sonuclar))"
   ]
  },
  {
   "cell_type": "code",
   "execution_count": 24,
   "id": "d1b43d11",
   "metadata": {},
   "outputs": [],
   "source": [
    "letter1 = \"a b c\".split()\n",
    "letter2 = \"x y z\".split()"
   ]
  },
  {
   "cell_type": "code",
   "execution_count": 25,
   "id": "11048e3f",
   "metadata": {},
   "outputs": [
    {
     "data": {
      "text/plain": [
       "['a', 'b', 'c']"
      ]
     },
     "execution_count": 25,
     "metadata": {},
     "output_type": "execute_result"
    }
   ],
   "source": [
    "letter1"
   ]
  },
  {
   "cell_type": "code",
   "execution_count": null,
   "id": "358853fb",
   "metadata": {},
   "outputs": [],
   "source": [
    "lambda k, l : (k, l)"
   ]
  },
  {
   "cell_type": "code",
   "execution_count": 27,
   "id": "092f2c1a",
   "metadata": {},
   "outputs": [
    {
     "data": {
      "text/plain": [
       "[('a', 'x'), ('b', 'y'), ('c', 'z')]"
      ]
     },
     "execution_count": 27,
     "metadata": {},
     "output_type": "execute_result"
    }
   ],
   "source": [
    "list(map((lambda k, l : (k, l)), letter1, letter2 ))"
   ]
  },
  {
   "cell_type": "code",
   "execution_count": 29,
   "id": "7359812a",
   "metadata": {},
   "outputs": [
    {
     "data": {
      "text/plain": [
       "[('a', 'x'), ('b', 'y'), ('c', 'z')]"
      ]
     },
     "execution_count": 29,
     "metadata": {},
     "output_type": "execute_result"
    }
   ],
   "source": [
    "list(zip(letter1, letter2))"
   ]
  },
  {
   "cell_type": "code",
   "execution_count": 31,
   "id": "d055480f",
   "metadata": {},
   "outputs": [
    {
     "data": {
      "text/plain": [
       "<map at 0x241ae890bb0>"
      ]
     },
     "execution_count": 31,
     "metadata": {},
     "output_type": "execute_result"
    }
   ],
   "source": [
    "map(zip, letter1, letter2)"
   ]
  },
  {
   "cell_type": "code",
   "execution_count": 32,
   "id": "5d82d6ef",
   "metadata": {},
   "outputs": [
    {
     "data": {
      "text/plain": [
       "[<zip at 0x241ae0e4340>, <zip at 0x241ae59d740>, <zip at 0x241ae5f8d40>]"
      ]
     },
     "execution_count": 32,
     "metadata": {},
     "output_type": "execute_result"
    }
   ],
   "source": [
    "list(map(zip, letter1, letter2))"
   ]
  },
  {
   "cell_type": "code",
   "execution_count": 55,
   "id": "6da6d020",
   "metadata": {},
   "outputs": [],
   "source": [
    "combined = map(zip, letter1, letter2)"
   ]
  },
  {
   "cell_type": "code",
   "execution_count": 56,
   "id": "73bc23a9",
   "metadata": {},
   "outputs": [
    {
     "data": {
      "text/plain": [
       "[<zip at 0x26d9538b6c0>, <zip at 0x26d9553da40>, <zip at 0x26d9553dd80>]"
      ]
     },
     "execution_count": 56,
     "metadata": {},
     "output_type": "execute_result"
    }
   ],
   "source": [
    "list(combined)  # Consider why it returns 3 generate objects in the list."
   ]
  },
  {
   "cell_type": "code",
   "execution_count": 57,
   "id": "76cbdcc0",
   "metadata": {},
   "outputs": [
    {
     "name": "stdout",
     "output_type": "stream",
     "text": [
      "('a', 'x')\n",
      "('b', 'y')\n",
      "('c', 'z')\n"
     ]
    }
   ],
   "source": [
    "# Since the objects generated by map and zip functions are nested,\n",
    "# we need nested for loops to be able to see or use them.\n",
    "\n",
    "combined = map(zip, letter1, letter2)\n",
    "\n",
    "for i in combined:\n",
    "    for j in i :\n",
    "        print(j)"
   ]
  },
  {
   "cell_type": "code",
   "execution_count": 59,
   "id": "bfebe8e3",
   "metadata": {},
   "outputs": [
    {
     "data": {
      "text/plain": [
       "[('b', 'y')]"
      ]
     },
     "execution_count": 59,
     "metadata": {},
     "output_type": "execute_result"
    }
   ],
   "source": [
    "list(zip(letter1[1], letter2[1]))"
   ]
  },
  {
   "cell_type": "code",
   "execution_count": 19,
   "id": "a6c2c593",
   "metadata": {},
   "outputs": [
    {
     "name": "stdout",
     "output_type": "stream",
     "text": [
      "[(5, 1, 5), (12, 2, 6), (21, 3, 7), (32, 4, 8)]\n"
     ]
    }
   ],
   "source": [
    "carpimlar = zip(map(lambda x, y : x * y, [1, 2, 3, 4], [5, 6, 7, 8]), [1, 2, 3, 4], [5, 6, 7, 8])\n",
    "print(list(carpimlar))"
   ]
  },
  {
   "cell_type": "code",
   "execution_count": 20,
   "id": "213716ee",
   "metadata": {},
   "outputs": [
    {
     "name": "stdout",
     "output_type": "stream",
     "text": [
      "[(5, 1, 5), (12, 2, 6), (21, 3, 7), (32, 4, 8)]\n"
     ]
    }
   ],
   "source": [
    "print(list(zip(map(lambda x, y : x * y, [1, 2, 3, 4], [5, 6, 7, 8]), [1, 2, 3, 4], [5, 6, 7, 8])))"
   ]
  },
  {
   "cell_type": "code",
   "execution_count": 21,
   "id": "a8f0e02e",
   "metadata": {},
   "outputs": [
    {
     "data": {
      "text/plain": [
       "[5.5, 6.5, 6.5]"
      ]
     },
     "execution_count": 21,
     "metadata": {},
     "output_type": "execute_result"
    }
   ],
   "source": [
    "a=[ 9,5,7]\n",
    "b= [2,8,6]\n",
    "dd= list(map(lambda x: x,[(a+b)/2 for a,b in zip(a,b)]))\n",
    "dd"
   ]
  },
  {
   "attachments": {},
   "cell_type": "markdown",
   "id": "eaf4c799",
   "metadata": {},
   "source": [
    "## Task :\n",
    "\n",
    "**This time, let’s filter the vowels from the given letters in a list.**\n",
    "\n",
    "**Print these letters in a list.**\n",
    "\n",
    "first_ten = ['a', 'b', 'c', 'd', 'e', 'f', 'g', 'h', 'i', 'j']"
   ]
  },
  {
   "cell_type": "code",
   "execution_count": 34,
   "id": "66fe099a",
   "metadata": {},
   "outputs": [],
   "source": [
    "first_ten = ['a', 'b', 'c', 'd', 'e', 'f', 'g', 'h', 'i', 'j']\n",
    "\n",
    "vowel_list = \"a e i o u\".split()"
   ]
  },
  {
   "cell_type": "code",
   "execution_count": 36,
   "id": "c282425c",
   "metadata": {},
   "outputs": [],
   "source": [
    "f = lambda x : True if x in vowel_list else False"
   ]
  },
  {
   "cell_type": "code",
   "execution_count": 37,
   "id": "03b292d1",
   "metadata": {},
   "outputs": [
    {
     "data": {
      "text/plain": [
       "['a', 'e', 'i']"
      ]
     },
     "execution_count": 37,
     "metadata": {},
     "output_type": "execute_result"
    }
   ],
   "source": [
    "list(filter(f, first_ten ))"
   ]
  },
  {
   "cell_type": "code",
   "execution_count": null,
   "id": "c750db99",
   "metadata": {},
   "outputs": [],
   "source": [
    "lambda x : x in vowel_list"
   ]
  },
  {
   "cell_type": "code",
   "execution_count": 38,
   "id": "a6009857",
   "metadata": {},
   "outputs": [
    {
     "data": {
      "text/plain": [
       "['a', 'e', 'i']"
      ]
     },
     "execution_count": 38,
     "metadata": {},
     "output_type": "execute_result"
    }
   ],
   "source": [
    "list(filter(lambda x : x in vowel_list, first_ten ))"
   ]
  },
  {
   "cell_type": "code",
   "execution_count": 22,
   "id": "996ad134",
   "metadata": {},
   "outputs": [
    {
     "name": "stdout",
     "output_type": "stream",
     "text": [
      "['a', 'e', 'i']\n"
     ]
    }
   ],
   "source": [
    "print(list(filter(lambda x: x in [\"a\",\"e\", \"i\", \"ü\",\"ö\"], ['a', 'b', 'c', 'd', 'e', 'f', 'g', 'h', 'i', 'j'])))"
   ]
  },
  {
   "attachments": {},
   "cell_type": "markdown",
   "id": "db6c10c8",
   "metadata": {},
   "source": [
    "<a id=\"toc\"></a>\n",
    "\n",
    "### <p style=\"background-color:#9d4f8c; font-family:newtimeroman; color:#FFF9ED; font-size:175%; text-align:center; border-radius:10px 10px;\">Lambda within User-Defined Functions</p>"
   ]
  },
  {
   "cell_type": "code",
   "execution_count": 39,
   "id": "4d98ce03",
   "metadata": {},
   "outputs": [],
   "source": [
    "def modular(n) :\n",
    "    return lambda x :x * n"
   ]
  },
  {
   "cell_type": "code",
   "execution_count": 40,
   "id": "ca5b28e7",
   "metadata": {},
   "outputs": [],
   "source": [
    "ikikatı = modular(2)\n",
    "üçkatı = modular(3)\n",
    "onkatı = modular(10)"
   ]
  },
  {
   "cell_type": "code",
   "execution_count": 41,
   "id": "a1dcfa99",
   "metadata": {},
   "outputs": [
    {
     "data": {
      "text/plain": [
       "30"
      ]
     },
     "execution_count": 41,
     "metadata": {},
     "output_type": "execute_result"
    }
   ],
   "source": [
    "onkatı(3)"
   ]
  },
  {
   "cell_type": "code",
   "execution_count": 43,
   "id": "5a22ca2b",
   "metadata": {},
   "outputs": [
    {
     "data": {
      "text/plain": [
       "'I lovePython'"
      ]
     },
     "execution_count": 43,
     "metadata": {},
     "output_type": "execute_result"
    }
   ],
   "source": [
    "\"I love\" +  \"Python\""
   ]
  },
  {
   "cell_type": "code",
   "execution_count": 42,
   "id": "776f42fe",
   "metadata": {},
   "outputs": [
    {
     "data": {
      "text/plain": [
       "'I love PythonI love PythonI love PythonI love PythonI love Python'"
      ]
     },
     "execution_count": 42,
     "metadata": {},
     "output_type": "execute_result"
    }
   ],
   "source": [
    "\"I love Python\" * 5"
   ]
  },
  {
   "cell_type": "code",
   "execution_count": 26,
   "id": "75260850",
   "metadata": {},
   "outputs": [
    {
     "name": "stdout",
     "output_type": "stream",
     "text": [
      "24\n"
     ]
    }
   ],
   "source": [
    "factorial = int(input(\"factorial :  \"))\n",
    "# faktorial\n",
    "a = 1\n",
    "for i in range(1, factorial + 1):\n",
    "    a = (lambda x: 1 if x == 0 else a * i)(factorial)\n",
    "\n",
    "print(a)"
   ]
  },
  {
   "attachments": {},
   "cell_type": "markdown",
   "id": "83a28000",
   "metadata": {},
   "source": [
    "## Task : (pre-class content)\n",
    "\n",
    "**We can define a function with the same logic as the previous example that repeats the string passed into it.**\n",
    "\n",
    "**Define a function (def) named repeater using lambda to print the string \"n\" times.**"
   ]
  },
  {
   "cell_type": "code",
   "execution_count": 44,
   "id": "b1d966a0",
   "metadata": {},
   "outputs": [],
   "source": [
    "def repeater(n) :\n",
    "    return lambda x : x * n"
   ]
  },
  {
   "cell_type": "code",
   "execution_count": 45,
   "id": "6ea32699",
   "metadata": {},
   "outputs": [],
   "source": [
    "repeat_2_times = repeater(2)\n",
    "repeat_3_times = repeater(3)\n",
    "repeat_4_times = repeater(4)"
   ]
  },
  {
   "cell_type": "code",
   "execution_count": 46,
   "id": "daed0b42",
   "metadata": {},
   "outputs": [
    {
     "data": {
      "text/plain": [
       "'I love PythonI love PythonI love Python'"
      ]
     },
     "execution_count": 46,
     "metadata": {},
     "output_type": "execute_result"
    }
   ],
   "source": [
    "repeat_3_times(\"I love Python\")"
   ]
  },
  {
   "cell_type": "code",
   "execution_count": 75,
   "id": "2fa083d5",
   "metadata": {},
   "outputs": [
    {
     "data": {
      "text/plain": [
       "\"You love too, don't you?You love too, don't you?You love too, don't you?You love too, don't you?\""
      ]
     },
     "execution_count": 75,
     "metadata": {},
     "output_type": "execute_result"
    }
   ],
   "source": [
    "repeat_4_times(\"You love too, don't you?\")"
   ]
  },
  {
   "attachments": {},
   "cell_type": "markdown",
   "id": "4cc623d4",
   "metadata": {},
   "source": [
    "## Task :\n",
    "\n",
    "**Define a simple function (def) named \"functioner\" using lambda to create your own print function with emoji faces. Such as :**"
   ]
  },
  {
   "attachments": {},
   "cell_type": "markdown",
   "id": "3e299c78",
   "metadata": {},
   "source": [
    "![python.exe](https://drive.google.com/uc?id=15Fi7vAHAbddsM_tJKBNpuPxK3doPfVYV)"
   ]
  },
  {
   "cell_type": "code",
   "execution_count": 55,
   "id": "45d3224e",
   "metadata": {},
   "outputs": [],
   "source": [
    "def functioner(emoji = \"\") :\n",
    "    return lambda message : print(message, emoji)\n",
    "    "
   ]
  },
  {
   "cell_type": "code",
   "execution_count": 48,
   "id": "564ddcf4",
   "metadata": {},
   "outputs": [
    {
     "name": "stdout",
     "output_type": "stream",
     "text": [
      "ali :)\n"
     ]
    }
   ],
   "source": [
    "print(\"ali\", \":)\")"
   ]
  },
  {
   "cell_type": "code",
   "execution_count": 51,
   "id": "36900335",
   "metadata": {},
   "outputs": [],
   "source": [
    "smile_func = functioner(\":)\")\n",
    "sad_func = functioner(\":(\")\n",
    "neutral_func = functioner(\":|\")"
   ]
  },
  {
   "cell_type": "code",
   "execution_count": 56,
   "id": "fa4f8643",
   "metadata": {},
   "outputs": [
    {
     "name": "stdout",
     "output_type": "stream",
     "text": [
      "Hello :)\n"
     ]
    }
   ],
   "source": [
    "smile_func(\"Hello\")"
   ]
  },
  {
   "cell_type": "code",
   "execution_count": 57,
   "id": "f744e43b",
   "metadata": {},
   "outputs": [
    {
     "name": "stdout",
     "output_type": "stream",
     "text": [
      "Hello :(\n"
     ]
    }
   ],
   "source": [
    "sad_func(\"Hello\")"
   ]
  },
  {
   "cell_type": "code",
   "execution_count": 58,
   "id": "6307bf2d",
   "metadata": {},
   "outputs": [],
   "source": [
    "no_emoji = functioner()"
   ]
  },
  {
   "cell_type": "code",
   "execution_count": 59,
   "id": "cd922607",
   "metadata": {},
   "outputs": [
    {
     "name": "stdout",
     "output_type": "stream",
     "text": [
      "Hello \n"
     ]
    }
   ],
   "source": [
    "no_emoji(\"Hello\")"
   ]
  },
  {
   "attachments": {},
   "cell_type": "markdown",
   "id": "e8e12478",
   "metadata": {},
   "source": [
    "## The Jupyter notebook returns the value of the last expression you wrote."
   ]
  },
  {
   "cell_type": "code",
   "execution_count": 76,
   "id": "254c7dd7",
   "metadata": {},
   "outputs": [
    {
     "name": "stdout",
     "output_type": "stream",
     "text": [
      "(1, 2, 3)\n",
      "[4, 5, 6]\n"
     ]
    },
    {
     "data": {
      "text/plain": [
       "'I love Python'"
      ]
     },
     "execution_count": 76,
     "metadata": {},
     "output_type": "execute_result"
    }
   ],
   "source": [
    "print((1, 2, 3))\n",
    "print([4, 5, 6])\n",
    "\"I love Python\""
   ]
  },
  {
   "attachments": {},
   "cell_type": "markdown",
   "id": "573ca440",
   "metadata": {},
   "source": [
    "## Task: \n",
    "\n",
    "**Define a function named name_print() (\"name\" will be your name). it means that it is name's print function. name_print() function should do what build-in print() function does.** \n",
    "\n",
    "**and define name_max() function. name's name_max() function.. it should do what build-in max() function do.**\n",
    "\n",
    "**and define name_bool() function. it should do what build-in bool() function do, but it will be name's name_bool() function.**\n",
    "\n",
    "**and define name_sort() function as the same way.**\n",
    "\n",
    "**So you will have defined a function generator**"
   ]
  },
  {
   "cell_type": "code",
   "execution_count": 63,
   "id": "97dcc212",
   "metadata": {},
   "outputs": [],
   "source": [
    "def function_generator(function_name):\n",
    "    return lambda x : function_name(x)"
   ]
  },
  {
   "cell_type": "code",
   "execution_count": 61,
   "id": "90d98bd5",
   "metadata": {},
   "outputs": [
    {
     "name": "stdout",
     "output_type": "stream",
     "text": [
      "Adel, Edwin, Nalan\n"
     ]
    }
   ],
   "source": [
    "(lambda x : print(x))(\"Adel, Edwin, Nalan\")"
   ]
  },
  {
   "cell_type": "code",
   "execution_count": 62,
   "id": "48fc2604",
   "metadata": {},
   "outputs": [
    {
     "data": {
      "text/plain": [
       "9"
      ]
     },
     "execution_count": 62,
     "metadata": {},
     "output_type": "execute_result"
    }
   ],
   "source": [
    "(lambda x : max(x))([9, 5, 6, 1, 3])"
   ]
  },
  {
   "cell_type": "code",
   "execution_count": 64,
   "id": "747d97e4",
   "metadata": {},
   "outputs": [],
   "source": [
    "edwin_max = function_generator(max)"
   ]
  },
  {
   "cell_type": "code",
   "execution_count": 65,
   "id": "93ae0791",
   "metadata": {},
   "outputs": [
    {
     "data": {
      "text/plain": [
       "9"
      ]
     },
     "execution_count": 65,
     "metadata": {},
     "output_type": "execute_result"
    }
   ],
   "source": [
    "edwin_max(([9, 5, 6, 1, 3]))"
   ]
  },
  {
   "cell_type": "code",
   "execution_count": 1,
   "id": "6dcdb236",
   "metadata": {},
   "outputs": [
    {
     "name": "stdout",
     "output_type": "stream",
     "text": [
      "aLbeRT\n",
      "[1, 6, 9, 10, 11]\n",
      "9\n",
      "True\n"
     ]
    }
   ],
   "source": [
    "def function_generator(fonc):\n",
    "       return lambda x: print(x) if fonc == print else print(fonc(x))\n",
    "\n",
    "name_print = function_generator(print)\n",
    "name_max =   function_generator(max)\n",
    "name_bool =  function_generator(bool)\n",
    "name_sort =  function_generator(sorted)\n",
    "\n",
    "\n",
    "name_print(\"aLbeRT\")\n",
    "\n",
    "name_sort([1, 6, 11, 9, 10])\n",
    "\n",
    "name_max([9,5])\n",
    "\n",
    "name_bool(\"aLbeRT\")"
   ]
  },
  {
   "attachments": {},
   "cell_type": "markdown",
   "id": "43aac2a3",
   "metadata": {},
   "source": [
    "### Whatever the function is returning in its code body, that value will be returned wherever you call the function!"
   ]
  },
  {
   "cell_type": "code",
   "execution_count": 68,
   "id": "11b3431b",
   "metadata": {},
   "outputs": [],
   "source": [
    "def x():\n",
    "    return 1, 2, 3, 4"
   ]
  },
  {
   "cell_type": "code",
   "execution_count": 67,
   "id": "03932bd1",
   "metadata": {},
   "outputs": [
    {
     "data": {
      "text/plain": [
       "(1, 2, 3, 4)"
      ]
     },
     "execution_count": 67,
     "metadata": {},
     "output_type": "execute_result"
    }
   ],
   "source": [
    "1, 2, 3, 4  # it's a tuple."
   ]
  },
  {
   "cell_type": "code",
   "execution_count": 69,
   "id": "af954570",
   "metadata": {},
   "outputs": [
    {
     "data": {
      "text/plain": [
       "tuple"
      ]
     },
     "execution_count": 69,
     "metadata": {},
     "output_type": "execute_result"
    }
   ],
   "source": [
    "type(x())"
   ]
  },
  {
   "cell_type": "code",
   "execution_count": 72,
   "id": "68e7985f",
   "metadata": {},
   "outputs": [],
   "source": [
    "a, b, c, d = x()"
   ]
  },
  {
   "cell_type": "code",
   "execution_count": 73,
   "id": "133f69f7",
   "metadata": {},
   "outputs": [
    {
     "data": {
      "text/plain": [
       "2"
      ]
     },
     "execution_count": 73,
     "metadata": {},
     "output_type": "execute_result"
    }
   ],
   "source": [
    "b"
   ]
  },
  {
   "cell_type": "code",
   "execution_count": 74,
   "id": "f1985e3d",
   "metadata": {},
   "outputs": [
    {
     "data": {
      "text/plain": [
       "3"
      ]
     },
     "execution_count": 74,
     "metadata": {},
     "output_type": "execute_result"
    }
   ],
   "source": [
    "c"
   ]
  },
  {
   "cell_type": "code",
   "execution_count": 77,
   "id": "5e4c50b1",
   "metadata": {},
   "outputs": [],
   "source": [
    "a, b, c, d  = 1, 2, 3, 4"
   ]
  },
  {
   "cell_type": "code",
   "execution_count": 78,
   "id": "51615d84",
   "metadata": {},
   "outputs": [
    {
     "data": {
      "text/plain": [
       "4"
      ]
     },
     "execution_count": 78,
     "metadata": {},
     "output_type": "execute_result"
    }
   ],
   "source": [
    "d"
   ]
  },
  {
   "attachments": {},
   "cell_type": "markdown",
   "id": "ed094e1e",
   "metadata": {},
   "source": [
    "# Task: Let's solve the 'Most Frequent Element' task using a function:"
   ]
  },
  {
   "cell_type": "code",
   "execution_count": 99,
   "id": "cd8d0d2f",
   "metadata": {},
   "outputs": [],
   "source": [
    "num= [1, 1, 1, 4, 5, 5]"
   ]
  },
  {
   "cell_type": "code",
   "execution_count": 100,
   "id": "2213deb1",
   "metadata": {},
   "outputs": [
    {
     "data": {
      "text/plain": [
       "1"
      ]
     },
     "execution_count": 100,
     "metadata": {},
     "output_type": "execute_result"
    }
   ],
   "source": [
    "max(num, key=num.count)"
   ]
  },
  {
   "cell_type": "code",
   "execution_count": 102,
   "id": "84aaf764",
   "metadata": {},
   "outputs": [
    {
     "data": {
      "text/plain": [
       "3"
      ]
     },
     "execution_count": 102,
     "metadata": {},
     "output_type": "execute_result"
    }
   ],
   "source": [
    "most_frequent_count = num.count(max(num, key=num.count))\n",
    "most_frequent_count"
   ]
  },
  {
   "cell_type": "code",
   "execution_count": 103,
   "id": "50ca9adb",
   "metadata": {},
   "outputs": [
    {
     "data": {
      "text/plain": [
       "1"
      ]
     },
     "execution_count": 103,
     "metadata": {},
     "output_type": "execute_result"
    }
   ],
   "source": [
    "num = [1, 2, 3]\n",
    "most_frequent_count = num.count(max(num, key=num.count))\n",
    "most_frequent_count"
   ]
  },
  {
   "attachments": {},
   "cell_type": "markdown",
   "id": "c62d72fd",
   "metadata": {},
   "source": [
    "**In this example, each element appears only once in the list. Therefore, we want the count of the most frequent element to be returned as 0, not 1. How can we achieve this?**"
   ]
  },
  {
   "attachments": {},
   "cell_type": "markdown",
   "id": "292db164",
   "metadata": {},
   "source": [
    "```python\n",
    "most_freq_count(1,4,4) --> 2\n",
    "most_freq_count(4,4,4) --> 3\n",
    "most_freq_count(1,2,3) --> 0\n",
    "```"
   ]
  },
  {
   "attachments": {},
   "cell_type": "markdown",
   "id": "ae94a2f8",
   "metadata": {},
   "source": [
    "**we want the count of the most frequent element to be returned as 0, not 1**\n",
    "\n",
    "**To achieve this we must use a condition inside the function**"
   ]
  },
  {
   "cell_type": "code",
   "execution_count": 104,
   "id": "950b2988",
   "metadata": {},
   "outputs": [
    {
     "data": {
      "text/plain": [
       "1"
      ]
     },
     "execution_count": 104,
     "metadata": {},
     "output_type": "execute_result"
    }
   ],
   "source": [
    "max(1,1,1)"
   ]
  },
  {
   "cell_type": "code",
   "execution_count": 111,
   "id": "b2a5f3dc",
   "metadata": {},
   "outputs": [],
   "source": [
    "def most_freq_count(a, b, c):\n",
    "    num = [a, b, c]\n",
    "    count_freq = num.count(max(num, key=num.count))\n",
    "    \n",
    "    if count_freq > 1 :\n",
    "        return count_freq\n",
    "    else:\n",
    "        return 0"
   ]
  },
  {
   "cell_type": "code",
   "execution_count": 112,
   "id": "e9e25d11",
   "metadata": {},
   "outputs": [
    {
     "data": {
      "text/plain": [
       "0"
      ]
     },
     "execution_count": 112,
     "metadata": {},
     "output_type": "execute_result"
    }
   ],
   "source": [
    "most_freq_count(1, 2, 3)"
   ]
  },
  {
   "cell_type": "code",
   "execution_count": 113,
   "id": "c7433cd6",
   "metadata": {},
   "outputs": [
    {
     "data": {
      "text/plain": [
       "2"
      ]
     },
     "execution_count": 113,
     "metadata": {},
     "output_type": "execute_result"
    }
   ],
   "source": [
    "most_freq_count(1, 5, 5)"
   ]
  },
  {
   "cell_type": "code",
   "execution_count": 114,
   "id": "7cfc99f2",
   "metadata": {},
   "outputs": [],
   "source": [
    "# if we don't want to define an extra variable to use memory efficiently:\n",
    "\n",
    "def most_freq_count(a, b, c):\n",
    "    num = [a, b, c]\n",
    "    \n",
    "    if num.count(max(num, key=num.count)) > 1 :\n",
    "        return num.count(max(num, key=num.count))\n",
    "    else:\n",
    "        return 0"
   ]
  },
  {
   "cell_type": "code",
   "execution_count": 115,
   "id": "b2d88fce",
   "metadata": {},
   "outputs": [
    {
     "data": {
      "text/plain": [
       "2"
      ]
     },
     "execution_count": 115,
     "metadata": {},
     "output_type": "execute_result"
    }
   ],
   "source": [
    "most_freq_count(1, 5, 5)"
   ]
  },
  {
   "attachments": {},
   "cell_type": "markdown",
   "id": "5458f1a0",
   "metadata": {},
   "source": [
    "## using arbitrary number of arguments:"
   ]
  },
  {
   "cell_type": "code",
   "execution_count": 7,
   "id": "1cc20ada",
   "metadata": {},
   "outputs": [],
   "source": [
    "def most_freq_count(*args) :\n",
    "    num = list(args)\n",
    "    result = num.count(max(num, key=num.count))\n",
    "    \n",
    "    if result > 1 :\n",
    "        return result\n",
    "    else:\n",
    "        return 0"
   ]
  },
  {
   "cell_type": "code",
   "execution_count": 6,
   "id": "09041156",
   "metadata": {},
   "outputs": [
    {
     "data": {
      "text/plain": [
       "3"
      ]
     },
     "execution_count": 6,
     "metadata": {},
     "output_type": "execute_result"
    }
   ],
   "source": [
    "most_freq_count(1,1,1,2,3,7,7,8,9,9,9)"
   ]
  },
  {
   "cell_type": "code",
   "execution_count": 10,
   "id": "700be3ab",
   "metadata": {},
   "outputs": [],
   "source": [
    "def most_freq_count(*args) :\n",
    "    # num = args\n",
    "    result = args.count(max(args, key=args.count))\n",
    "    \n",
    "    if result > 1 :\n",
    "        return result\n",
    "    else:\n",
    "        return 0"
   ]
  },
  {
   "cell_type": "code",
   "execution_count": 11,
   "id": "e19926ed",
   "metadata": {},
   "outputs": [
    {
     "data": {
      "text/plain": [
       "3"
      ]
     },
     "execution_count": 11,
     "metadata": {},
     "output_type": "execute_result"
    }
   ],
   "source": [
    "most_freq_count(1,1,1,2,3,7,7,8,9,9,9)"
   ]
  },
  {
   "attachments": {},
   "cell_type": "markdown",
   "id": "58fef2f3",
   "metadata": {},
   "source": [
    "## using lambda expression:\n"
   ]
  },
  {
   "cell_type": "code",
   "execution_count": 119,
   "id": "bf78b958",
   "metadata": {},
   "outputs": [],
   "source": [
    "most_freq_count = lambda x, y, z : num.count(max(num, key = num.count))\n",
    "\n",
    "# Note that instead of the variable 'num', we must use the parameters 'x', 'y', and 'z' inside the lambda expression.!!!"
   ]
  },
  {
   "cell_type": "code",
   "execution_count": 120,
   "id": "19ec4f68",
   "metadata": {},
   "outputs": [],
   "source": [
    "most_freq_count = lambda x, y, z : [x, y, z].count(max([x, y, z], key = [x, y, z].count))"
   ]
  },
  {
   "cell_type": "code",
   "execution_count": 121,
   "id": "b9f77e24",
   "metadata": {},
   "outputs": [
    {
     "data": {
      "text/plain": [
       "2"
      ]
     },
     "execution_count": 121,
     "metadata": {},
     "output_type": "execute_result"
    }
   ],
   "source": [
    "most_freq_count(1, 5, 5)"
   ]
  },
  {
   "cell_type": "code",
   "execution_count": 123,
   "id": "64aae2e9",
   "metadata": {},
   "outputs": [
    {
     "data": {
      "text/plain": [
       "1"
      ]
     },
     "execution_count": 123,
     "metadata": {},
     "output_type": "execute_result"
    }
   ],
   "source": [
    "most_freq_count(1,2,3)"
   ]
  },
  {
   "attachments": {},
   "cell_type": "markdown",
   "id": "7fab9f00",
   "metadata": {},
   "source": [
    "**we want the count of the most frequent element to be returned as 0, not 1**\n",
    "\n",
    "**To achieve this we must use a condition inside the lambda.**\n",
    "\n",
    "**Lambda is an expression, and if we need to use a condition inside expressions, \n",
    "we can do it using the ternary operator.**"
   ]
  },
  {
   "cell_type": "code",
   "execution_count": 124,
   "id": "c543eb83",
   "metadata": {},
   "outputs": [],
   "source": [
    "most_freq_count = lambda x, y, z : [x, y, z].count(max([x, y, z], key = [x, y, z].count))\\\n",
    "if [x, y, z].count(max([x, y, z], key = [x, y, z].count)) > 1  else 0"
   ]
  },
  {
   "cell_type": "code",
   "execution_count": 125,
   "id": "9cecdca4",
   "metadata": {},
   "outputs": [
    {
     "data": {
      "text/plain": [
       "0"
      ]
     },
     "execution_count": 125,
     "metadata": {},
     "output_type": "execute_result"
    }
   ],
   "source": [
    "most_freq_count(1,2,3)"
   ]
  },
  {
   "cell_type": "code",
   "execution_count": 126,
   "id": "71369476",
   "metadata": {},
   "outputs": [
    {
     "data": {
      "text/plain": [
       "2"
      ]
     },
     "execution_count": 126,
     "metadata": {},
     "output_type": "execute_result"
    }
   ],
   "source": [
    "most_freq_count(1,5,5)"
   ]
  },
  {
   "attachments": {},
   "cell_type": "markdown",
   "id": "96ce7c7d",
   "metadata": {},
   "source": [
    "## Using arbitrary number of arguments inside lambda function:"
   ]
  },
  {
   "cell_type": "code",
   "execution_count": 8,
   "id": "c928cfe5",
   "metadata": {},
   "outputs": [],
   "source": [
    "most_freq_count = lambda *args : list(args).count(max(list(args), key = list(args).count))\\\n",
    "if list(args).count(max(list(args), key = list(args).count)) > 1 else 0"
   ]
  },
  {
   "cell_type": "code",
   "execution_count": 9,
   "id": "d680c642",
   "metadata": {},
   "outputs": [
    {
     "data": {
      "text/plain": [
       "3"
      ]
     },
     "execution_count": 9,
     "metadata": {},
     "output_type": "execute_result"
    }
   ],
   "source": [
    "most_freq_count(1,1,1,2,2,3)"
   ]
  }
 ],
 "metadata": {
  "kernelspec": {
   "display_name": "Python 3 (ipykernel)",
   "language": "python",
   "name": "python3"
  },
  "language_info": {
   "codemirror_mode": {
    "name": "ipython",
    "version": 3
   },
   "file_extension": ".py",
   "mimetype": "text/x-python",
   "name": "python",
   "nbconvert_exporter": "python",
   "pygments_lexer": "ipython3",
   "version": "3.11.3"
  }
 },
 "nbformat": 4,
 "nbformat_minor": 5
}
